{
 "cells": [
  {
   "cell_type": "code",
   "execution_count": 2,
   "id": "929cac03",
   "metadata": {},
   "outputs": [],
   "source": [
    "import pandas as pd"
   ]
  },
  {
   "cell_type": "code",
   "execution_count": 3,
   "id": "800af736",
   "metadata": {},
   "outputs": [],
   "source": [
    "san_francisco = pd.read_excel(\"C:/Users/Kaden/OneDrive/Projects/Affordability/data/san_francisco_demand_with_education.xlsx\")"
   ]
  },
  {
   "cell_type": "code",
   "execution_count": 4,
   "id": "56ff0ed6",
   "metadata": {},
   "outputs": [
    {
     "data": {
      "text/html": [
       "<div>\n",
       "<style scoped>\n",
       "    .dataframe tbody tr th:only-of-type {\n",
       "        vertical-align: middle;\n",
       "    }\n",
       "\n",
       "    .dataframe tbody tr th {\n",
       "        vertical-align: top;\n",
       "    }\n",
       "\n",
       "    .dataframe thead th {\n",
       "        text-align: right;\n",
       "    }\n",
       "</style>\n",
       "<table border=\"1\" class=\"dataframe\">\n",
       "  <thead>\n",
       "    <tr style=\"text-align: right;\">\n",
       "      <th></th>\n",
       "      <th>Unnamed: 0</th>\n",
       "      <th>Occupation Title</th>\n",
       "      <th>Total Employment</th>\n",
       "      <th>Job Openings in Last Month</th>\n",
       "      <th>Normalized Demand</th>\n",
       "      <th>Typical Education Level</th>\n",
       "    </tr>\n",
       "  </thead>\n",
       "  <tbody>\n",
       "    <tr>\n",
       "      <th>0</th>\n",
       "      <td>713</td>\n",
       "      <td>Transportation Workers, All Other</td>\n",
       "      <td>130.0</td>\n",
       "      <td>79</td>\n",
       "      <td>1.000000</td>\n",
       "      <td>High School Diploma</td>\n",
       "    </tr>\n",
       "    <tr>\n",
       "      <th>1</th>\n",
       "      <td>254</td>\n",
       "      <td>Artists and Related Workers, All Other</td>\n",
       "      <td>60.0</td>\n",
       "      <td>33</td>\n",
       "      <td>0.905063</td>\n",
       "      <td>High School Diploma</td>\n",
       "    </tr>\n",
       "    <tr>\n",
       "      <th>2</th>\n",
       "      <td>341</td>\n",
       "      <td>Hearing Aid Specialists</td>\n",
       "      <td>100.0</td>\n",
       "      <td>33</td>\n",
       "      <td>0.543038</td>\n",
       "      <td>Bachelor's Degree</td>\n",
       "    </tr>\n",
       "    <tr>\n",
       "      <th>3</th>\n",
       "      <td>305</td>\n",
       "      <td>Exercise Physiologists</td>\n",
       "      <td>30.0</td>\n",
       "      <td>9</td>\n",
       "      <td>0.493671</td>\n",
       "      <td>Master's Degree</td>\n",
       "    </tr>\n",
       "    <tr>\n",
       "      <th>4</th>\n",
       "      <td>327</td>\n",
       "      <td>Magnetic Resonance Imaging Technologists</td>\n",
       "      <td>370.0</td>\n",
       "      <td>111</td>\n",
       "      <td>0.493671</td>\n",
       "      <td>Bachelor's Degree</td>\n",
       "    </tr>\n",
       "  </tbody>\n",
       "</table>\n",
       "</div>"
      ],
      "text/plain": [
       "   Unnamed: 0                          Occupation Title  Total Employment  \\\n",
       "0         713         Transportation Workers, All Other             130.0   \n",
       "1         254    Artists and Related Workers, All Other              60.0   \n",
       "2         341                   Hearing Aid Specialists             100.0   \n",
       "3         305                    Exercise Physiologists              30.0   \n",
       "4         327  Magnetic Resonance Imaging Technologists             370.0   \n",
       "\n",
       "   Job Openings in Last Month  Normalized Demand Typical Education Level  \n",
       "0                          79           1.000000     High School Diploma  \n",
       "1                          33           0.905063     High School Diploma  \n",
       "2                          33           0.543038       Bachelor's Degree  \n",
       "3                           9           0.493671         Master's Degree  \n",
       "4                         111           0.493671       Bachelor's Degree  "
      ]
     },
     "execution_count": 4,
     "metadata": {},
     "output_type": "execute_result"
    }
   ],
   "source": [
    "san_francisco.head()"
   ]
  },
  {
   "cell_type": "code",
   "execution_count": 5,
   "id": "723e8980",
   "metadata": {},
   "outputs": [
    {
     "data": {
      "text/plain": [
       "Index(['Unnamed: 0', 'Occupation Title', 'Total Employment',\n",
       "       'Job Openings in Last Month', 'Normalized Demand',\n",
       "       'Typical Education Level'],\n",
       "      dtype='object')"
      ]
     },
     "execution_count": 5,
     "metadata": {},
     "output_type": "execute_result"
    }
   ],
   "source": [
    "san_francisco.columns"
   ]
  },
  {
   "cell_type": "code",
   "execution_count": 6,
   "id": "58ff5aac",
   "metadata": {},
   "outputs": [
    {
     "data": {
      "text/html": [
       "<div>\n",
       "<style scoped>\n",
       "    .dataframe tbody tr th:only-of-type {\n",
       "        vertical-align: middle;\n",
       "    }\n",
       "\n",
       "    .dataframe tbody tr th {\n",
       "        vertical-align: top;\n",
       "    }\n",
       "\n",
       "    .dataframe thead th {\n",
       "        text-align: right;\n",
       "    }\n",
       "</style>\n",
       "<table border=\"1\" class=\"dataframe\">\n",
       "  <thead>\n",
       "    <tr style=\"text-align: right;\">\n",
       "      <th></th>\n",
       "      <th>Occupation Title</th>\n",
       "      <th>Total Employment</th>\n",
       "      <th>Job Openings in Last Month</th>\n",
       "      <th>Normalized Demand</th>\n",
       "      <th>Typical Education Level</th>\n",
       "    </tr>\n",
       "  </thead>\n",
       "  <tbody>\n",
       "    <tr>\n",
       "      <th>0</th>\n",
       "      <td>Transportation Workers, All Other</td>\n",
       "      <td>130.0</td>\n",
       "      <td>79</td>\n",
       "      <td>1.000000</td>\n",
       "      <td>High School Diploma</td>\n",
       "    </tr>\n",
       "    <tr>\n",
       "      <th>1</th>\n",
       "      <td>Artists and Related Workers, All Other</td>\n",
       "      <td>60.0</td>\n",
       "      <td>33</td>\n",
       "      <td>0.905063</td>\n",
       "      <td>High School Diploma</td>\n",
       "    </tr>\n",
       "    <tr>\n",
       "      <th>2</th>\n",
       "      <td>Hearing Aid Specialists</td>\n",
       "      <td>100.0</td>\n",
       "      <td>33</td>\n",
       "      <td>0.543038</td>\n",
       "      <td>Bachelor's Degree</td>\n",
       "    </tr>\n",
       "    <tr>\n",
       "      <th>3</th>\n",
       "      <td>Exercise Physiologists</td>\n",
       "      <td>30.0</td>\n",
       "      <td>9</td>\n",
       "      <td>0.493671</td>\n",
       "      <td>Master's Degree</td>\n",
       "    </tr>\n",
       "    <tr>\n",
       "      <th>4</th>\n",
       "      <td>Magnetic Resonance Imaging Technologists</td>\n",
       "      <td>370.0</td>\n",
       "      <td>111</td>\n",
       "      <td>0.493671</td>\n",
       "      <td>Bachelor's Degree</td>\n",
       "    </tr>\n",
       "  </tbody>\n",
       "</table>\n",
       "</div>"
      ],
      "text/plain": [
       "                           Occupation Title  Total Employment  \\\n",
       "0         Transportation Workers, All Other             130.0   \n",
       "1    Artists and Related Workers, All Other              60.0   \n",
       "2                   Hearing Aid Specialists             100.0   \n",
       "3                    Exercise Physiologists              30.0   \n",
       "4  Magnetic Resonance Imaging Technologists             370.0   \n",
       "\n",
       "   Job Openings in Last Month  Normalized Demand Typical Education Level  \n",
       "0                          79           1.000000     High School Diploma  \n",
       "1                          33           0.905063     High School Diploma  \n",
       "2                          33           0.543038       Bachelor's Degree  \n",
       "3                           9           0.493671         Master's Degree  \n",
       "4                         111           0.493671       Bachelor's Degree  "
      ]
     },
     "execution_count": 6,
     "metadata": {},
     "output_type": "execute_result"
    }
   ],
   "source": [
    "san_francisco.drop(\"Unnamed: 0\", axis = 1, inplace = True)\n",
    "san_francisco.head()"
   ]
  },
  {
   "cell_type": "code",
   "execution_count": 15,
   "id": "54e4146f",
   "metadata": {},
   "outputs": [],
   "source": [
    "high_school = san_francisco[san_francisco[\"Typical Education Level\"] == \"High School Diploma\"]\n",
    "bachelors = san_francisco[san_francisco[\"Typical Education Level\"] == \"Bachelor's Degree\"]\n",
    "graduate = san_francisco[(san_francisco[\"Typical Education Level\"] == \"Master's Degree\") | (san_francisco[\"Typical Education Level\"] == \"Doctorate Degree\")]"
   ]
  },
  {
   "cell_type": "code",
   "execution_count": 16,
   "id": "1223d89f",
   "metadata": {},
   "outputs": [
    {
     "data": {
      "text/html": [
       "<div>\n",
       "<style scoped>\n",
       "    .dataframe tbody tr th:only-of-type {\n",
       "        vertical-align: middle;\n",
       "    }\n",
       "\n",
       "    .dataframe tbody tr th {\n",
       "        vertical-align: top;\n",
       "    }\n",
       "\n",
       "    .dataframe thead th {\n",
       "        text-align: right;\n",
       "    }\n",
       "</style>\n",
       "<table border=\"1\" class=\"dataframe\">\n",
       "  <thead>\n",
       "    <tr style=\"text-align: right;\">\n",
       "      <th></th>\n",
       "      <th>Occupation Title</th>\n",
       "      <th>Total Employment</th>\n",
       "      <th>Job Openings in Last Month</th>\n",
       "      <th>Normalized Demand</th>\n",
       "      <th>Typical Education Level</th>\n",
       "    </tr>\n",
       "  </thead>\n",
       "  <tbody>\n",
       "    <tr>\n",
       "      <th>2</th>\n",
       "      <td>Hearing Aid Specialists</td>\n",
       "      <td>100.0</td>\n",
       "      <td>33</td>\n",
       "      <td>0.543038</td>\n",
       "      <td>Bachelor's Degree</td>\n",
       "    </tr>\n",
       "    <tr>\n",
       "      <th>4</th>\n",
       "      <td>Magnetic Resonance Imaging Technologists</td>\n",
       "      <td>370.0</td>\n",
       "      <td>111</td>\n",
       "      <td>0.493671</td>\n",
       "      <td>Bachelor's Degree</td>\n",
       "    </tr>\n",
       "    <tr>\n",
       "      <th>8</th>\n",
       "      <td>Life Scientists, All Other</td>\n",
       "      <td>120.0</td>\n",
       "      <td>32</td>\n",
       "      <td>0.438819</td>\n",
       "      <td>Bachelor's Degree</td>\n",
       "    </tr>\n",
       "    <tr>\n",
       "      <th>10</th>\n",
       "      <td>Medical Dosimetrists</td>\n",
       "      <td>40.0</td>\n",
       "      <td>10</td>\n",
       "      <td>0.411392</td>\n",
       "      <td>Bachelor's Degree</td>\n",
       "    </tr>\n",
       "    <tr>\n",
       "      <th>13</th>\n",
       "      <td>Designers, All Other</td>\n",
       "      <td>460.0</td>\n",
       "      <td>93</td>\n",
       "      <td>0.332691</td>\n",
       "      <td>Bachelor's Degree</td>\n",
       "    </tr>\n",
       "  </tbody>\n",
       "</table>\n",
       "</div>"
      ],
      "text/plain": [
       "                            Occupation Title  Total Employment  \\\n",
       "2                    Hearing Aid Specialists             100.0   \n",
       "4   Magnetic Resonance Imaging Technologists             370.0   \n",
       "8                 Life Scientists, All Other             120.0   \n",
       "10                      Medical Dosimetrists              40.0   \n",
       "13                      Designers, All Other             460.0   \n",
       "\n",
       "    Job Openings in Last Month  Normalized Demand Typical Education Level  \n",
       "2                           33           0.543038       Bachelor's Degree  \n",
       "4                          111           0.493671       Bachelor's Degree  \n",
       "8                           32           0.438819       Bachelor's Degree  \n",
       "10                          10           0.411392       Bachelor's Degree  \n",
       "13                          93           0.332691       Bachelor's Degree  "
      ]
     },
     "execution_count": 16,
     "metadata": {},
     "output_type": "execute_result"
    }
   ],
   "source": [
    "bachelors.head()"
   ]
  },
  {
   "cell_type": "code",
   "execution_count": 17,
   "id": "538feaa7",
   "metadata": {},
   "outputs": [],
   "source": [
    "bachelors.reset_index(inplace = True)"
   ]
  },
  {
   "cell_type": "code",
   "execution_count": 18,
   "id": "b06f0ab3",
   "metadata": {},
   "outputs": [
    {
     "data": {
      "text/plain": [
       "Index([228], dtype='int64')"
      ]
     },
     "execution_count": 18,
     "metadata": {},
     "output_type": "execute_result"
    }
   ],
   "source": [
    "bachelors[bachelors[\"Occupation Title\"] == \"Software Developers\"].index"
   ]
  },
  {
   "cell_type": "code",
   "execution_count": 20,
   "id": "36ecf6b0",
   "metadata": {},
   "outputs": [
    {
     "data": {
      "text/plain": [
       "index                                         348\n",
       "Occupation Title              Software Developers\n",
       "Total Employment                          76900.0\n",
       "Job Openings in Last Month                    222\n",
       "Normalized Demand                        0.004751\n",
       "Typical Education Level         Bachelor's Degree\n",
       "Name: 228, dtype: object"
      ]
     },
     "execution_count": 20,
     "metadata": {},
     "output_type": "execute_result"
    }
   ],
   "source": [
    "bachelors.iloc[228]"
   ]
  },
  {
   "cell_type": "code",
   "execution_count": 19,
   "id": "cf46a341",
   "metadata": {},
   "outputs": [
    {
     "data": {
      "text/html": [
       "<div>\n",
       "<style scoped>\n",
       "    .dataframe tbody tr th:only-of-type {\n",
       "        vertical-align: middle;\n",
       "    }\n",
       "\n",
       "    .dataframe tbody tr th {\n",
       "        vertical-align: top;\n",
       "    }\n",
       "\n",
       "    .dataframe thead th {\n",
       "        text-align: right;\n",
       "    }\n",
       "</style>\n",
       "<table border=\"1\" class=\"dataframe\">\n",
       "  <thead>\n",
       "    <tr style=\"text-align: right;\">\n",
       "      <th></th>\n",
       "      <th>index</th>\n",
       "      <th>Occupation Title</th>\n",
       "      <th>Total Employment</th>\n",
       "      <th>Job Openings in Last Month</th>\n",
       "      <th>Normalized Demand</th>\n",
       "      <th>Typical Education Level</th>\n",
       "    </tr>\n",
       "  </thead>\n",
       "  <tbody>\n",
       "    <tr>\n",
       "      <th>0</th>\n",
       "      <td>0</td>\n",
       "      <td>Transportation Workers, All Other</td>\n",
       "      <td>130.0</td>\n",
       "      <td>79</td>\n",
       "      <td>1.000000</td>\n",
       "      <td>High School Diploma</td>\n",
       "    </tr>\n",
       "    <tr>\n",
       "      <th>1</th>\n",
       "      <td>1</td>\n",
       "      <td>Artists and Related Workers, All Other</td>\n",
       "      <td>60.0</td>\n",
       "      <td>33</td>\n",
       "      <td>0.905063</td>\n",
       "      <td>High School Diploma</td>\n",
       "    </tr>\n",
       "    <tr>\n",
       "      <th>2</th>\n",
       "      <td>5</td>\n",
       "      <td>Occupational Therapy Assistants</td>\n",
       "      <td>300.0</td>\n",
       "      <td>87</td>\n",
       "      <td>0.477215</td>\n",
       "      <td>High School Diploma</td>\n",
       "    </tr>\n",
       "    <tr>\n",
       "      <th>3</th>\n",
       "      <td>7</td>\n",
       "      <td>Avionics Technicians</td>\n",
       "      <td>70.0</td>\n",
       "      <td>19</td>\n",
       "      <td>0.446655</td>\n",
       "      <td>High School Diploma</td>\n",
       "    </tr>\n",
       "    <tr>\n",
       "      <th>4</th>\n",
       "      <td>9</td>\n",
       "      <td>Statistical Assistants</td>\n",
       "      <td>30.0</td>\n",
       "      <td>8</td>\n",
       "      <td>0.438819</td>\n",
       "      <td>High School Diploma</td>\n",
       "    </tr>\n",
       "  </tbody>\n",
       "</table>\n",
       "</div>"
      ],
      "text/plain": [
       "   index                        Occupation Title  Total Employment  \\\n",
       "0      0       Transportation Workers, All Other             130.0   \n",
       "1      1  Artists and Related Workers, All Other              60.0   \n",
       "2      5         Occupational Therapy Assistants             300.0   \n",
       "3      7                    Avionics Technicians              70.0   \n",
       "4      9                  Statistical Assistants              30.0   \n",
       "\n",
       "   Job Openings in Last Month  Normalized Demand Typical Education Level  \n",
       "0                          79           1.000000     High School Diploma  \n",
       "1                          33           0.905063     High School Diploma  \n",
       "2                          87           0.477215     High School Diploma  \n",
       "3                          19           0.446655     High School Diploma  \n",
       "4                           8           0.438819     High School Diploma  "
      ]
     },
     "execution_count": 19,
     "metadata": {},
     "output_type": "execute_result"
    }
   ],
   "source": [
    "high_school.reset_index(inplace = True)\n",
    "high_school.head()"
   ]
  }
 ],
 "metadata": {
  "kernelspec": {
   "display_name": "Python 3",
   "language": "python",
   "name": "python3"
  },
  "language_info": {
   "codemirror_mode": {
    "name": "ipython",
    "version": 3
   },
   "file_extension": ".py",
   "mimetype": "text/x-python",
   "name": "python",
   "nbconvert_exporter": "python",
   "pygments_lexer": "ipython3",
   "version": "3.9.13"
  }
 },
 "nbformat": 4,
 "nbformat_minor": 5
}
